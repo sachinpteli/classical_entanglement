{
  "nbformat": 4,
  "nbformat_minor": 0,
  "metadata": {
    "colab": {
      "name": "classical_entanglement.ipynb",
      "provenance": [],
      "include_colab_link": true
    },
    "kernelspec": {
      "name": "python3",
      "display_name": "Python 3"
    },
    "language_info": {
      "name": "python"
    }
  },
  "cells": [
    {
      "cell_type": "markdown",
      "metadata": {
        "id": "view-in-github",
        "colab_type": "text"
      },
      "source": [
        "<a href=\"https://colab.research.google.com/github/sanyamsinghal01/classical_entanglement/blob/main/classical_entanglement.ipynb\" target=\"_parent\"><img src=\"https://colab.research.google.com/assets/colab-badge.svg\" alt=\"Open In Colab\"/></a>"
      ]
    },
    {
      "cell_type": "markdown",
      "metadata": {
        "id": "7qT3g5vIAxqy"
      },
      "source": [
        "# **Classical Entanglement in Polarization Metrology**\n",
        "## **PH202 Course Project**\n",
        "### **Group 1**\n",
        "**Abstract:** The project discusses the interpretation of a classical light beam as an entangled system, with entanglement between spatial and polarization DoFs of the light beam. Classic Mueller Matrix Polarimetry is introduced for motivating the polarimetric studies of materials. A novel modified version of Mueller Matrix Polarimetry is presented which fastens the measurement of the Mueller Matrix of the material under study by utilizing the entangled nature of the light beam. At the end, mathematical formalism has been motivated to obtain Mueller matrix from the intensity measurements in the novel Mueller matrix polarimetry. \n",
        "\n",
        "**People Involved in this Project:**\n",
        "1. Drishti Baruah (Roll Number: 190260019)\n",
        "2. Teli Sachin Pravin (Roll Number: 190260042) \n",
        "3. Sanyam Singhal (Roll Number: 19D170028) \n",
        "4. Shubhankar Kumar (Roll Number: 19B030027)"
      ]
    },
    {
      "cell_type": "code",
      "metadata": {
        "id": "0GARV9PhaCG-"
      },
      "source": [
        "pip install py_pol"
      ],
      "execution_count": null,
      "outputs": []
    },
    {
      "cell_type": "code",
      "metadata": {
        "id": "bmPWjk-haIrQ"
      },
      "source": [
        "from py_pol.mueller import Mueller\n",
        "from py_pol.stokes import Stokes\n",
        "from py_pol.utils import degrees\n",
        "import numpy as np\n",
        "import matplotlib.pyplot as plt"
      ],
      "execution_count": 2,
      "outputs": []
    },
    {
      "cell_type": "markdown",
      "metadata": {
        "id": "Mmwb-u1kd_4s"
      },
      "source": [
        "# **Introduction**"
      ]
    },
    {
      "cell_type": "markdown",
      "metadata": {
        "id": "7B_YR0t8uXNG"
      },
      "source": [
        "In recent years, quantum information theory taught us that the use of entangled\n",
        "photons offers the unique advantage over classical light by providing more information\n",
        "in metrology applications, in optical measurements. However, entanglement should not necessarily be limited to quantum\n",
        "mechanical nature of a system. One can distinguish between two types of\n",
        "entanglement:\n",
        "\n",
        "*   entanglement between spatially separated systems which is a **inter-system entanglement**\n",
        "*   entanglement between different degrees of freedom (DoFs) of\n",
        "a single system which is a **intra-system entanglement**\n",
        "\n",
        "Inter-system entanglement, or “nonlocal entanglement”, can occur only in bona fide quantum systems and may yield\n",
        "to nonlocal statistical correlations. Intra-system entanglement, or “local entanglement”, may also appear in classical systems and can not generate nonlocal correlations.\n",
        "\n",
        "As an example, photon pairs from atomic cascades show nonlocal\n",
        "entanglement. Whereas an example of local entanglement, aka, 'classical' entanglement, is that between spatial\n",
        "and spin DoFs in single neutrons. It has been demonstrated that local entanglement is present between\n",
        "polarization and spatial DoFs of the same beam in\n",
        "radially and azimuthally polarized beams of light.\n",
        "It has been suggested that quantum computing tasks\n",
        "requiring entanglement but not nonlocality can be efficiently accomplished in the\n",
        "classical optical regime. The various advantages that classical entanglement can offer in terms of improving techniques of optical\n",
        "measurements, still remain open questions.\n",
        "\n",
        "\n",
        "\n",
        "\n"
      ]
    },
    {
      "cell_type": "markdown",
      "metadata": {
        "id": "ZI-PAyWKeLTf"
      },
      "source": [
        "# **Mathematical Formalism**"
      ]
    },
    {
      "cell_type": "markdown",
      "metadata": {
        "id": "yOZnVV0tuXkF"
      },
      "source": [
        "For a monochromatic beam of light of angular frequency $\\omega$, propagating along the $z$ - axis and polarized in the $(x,y)$ plane, the electric field $\\mathscr{E}(\\mathbf{r},t) = Re[\\mathbf{E}(\\mathbf{r}) \\text{exp}(-\\iota \\omega t)]$ where\n",
        "\n",
        "$$\\mathbf{E}(\\mathbf{r}) = (A_0\\mathbf{e_x} + A_1\\mathbf{e_y}) \\psi(\\mathbf{r})$$\n",
        "\n",
        "with $\\psi(\\mathbf{r})$ denoting the spatial mode of the beam and $\\mathbf{e_x},\\mathbf{e_y},\\mathbf{e_z}$ are unit vectors in $x,y,z$ directions respectively. The two complex numbers $A_0$ and $A_1$ represent the\n",
        "amplitudes of the electric field along the $x$ and $y$ axis, respectively.We can write this conveniently in Jones vector representation:\n",
        "\n",
        "$$ \\mathbf{E}(\\mathbf{r}) = \\left[\\begin{matrix} A_0 \\\\ A_1 \\end{matrix}\\right] \\psi(\\mathbf{r})$$\n",
        "\n",
        "In this notation identification of polarisation (represented by Jones vector $\\left[\\begin{matrix} A_0 \\\\ A_1 \\end{matrix}\\right]$) and the spatial DoFs (represented by the scalar field $\\psi(\\mathbf{r})$) becomes straightforward. For a field which can be represented in this form, polarization and spatial DoFs are said to be **separable** because the expression of $\\mathbf{E}(\\mathbf{r})$ is factorizable in the product of a single space independent vector, and a single scalar field.\n",
        "However, in general,\n",
        "polarization and spatial DoFs can be coupled and when this happens this factorizable representation is no longer valid. For example, the electric field of a beam of light nonuniformly polarized in the $(x,y)$ plane, which can be expressed as:\n",
        "\n",
        "$$\\mathbf{E}(\\mathbf{r}) = A_{00}\\mathbf{e_x}\\psi_{10}(\\mathbf{r}) +A_{01}\\mathbf{e_x}\\psi_{01}(\\mathbf{r}) + A_{10}\\mathbf{e_y}\\psi_{10}(\\mathbf{r}) + A_{11}\\mathbf{e_y}\\psi_{01}(\\mathbf{r})$$\n",
        "\n",
        "where $\\psi_{mn}(\\mathbf{r})$, with $m,n \\in \\{0,1,2,...\\}$ is the Hermite-Gauss (HG) solution of the paraxial wave equation of order $N = m+n$ and $A_{ij}$, discussed in later sections, denotes a complex amplitude of the field, with $i,j \\in \\{0,1\\}$. In Jones notation:\n",
        "\n",
        "$$ \\mathbf{E}(\\mathbf{r}) = \\left[\\begin{matrix} A_{00}\\psi_{10}(\\mathbf{r}) +A_{01}\\psi_{01}(\\mathbf{r}) \\\\ A_{10}\\psi_{10}(\\mathbf{r}) + A_{11}\\psi_{01}(\\mathbf{r}) \\end{matrix}\\right] = \\left[\\begin{matrix} A_{00} \\\\ A_{10} \\end{matrix}\\right] \\psi_{10}(\\mathbf{r}) + \\left[\\begin{matrix} A_{01} \\\\ A_{11} \\end{matrix}\\right] \\psi_{01}(\\mathbf{r})$$\n",
        "\n",
        "When written in this form, it is evident that polarization\n",
        "and spatial DoFs are **non separable** in this case. In other words, they are entangled, because one needs two coordinate independent Jones vectors and two independent scalar fields, $\\psi_{10}$ and $\\psi_{01}$, to represent the electric field.\n",
        "\n",
        "Mathematically, occurrence of entanglement requires an expression to be\n",
        "written as the sum of tensor products of two or more vectors belonging to different vector spaces. As an example, two qubit entangled in a way that both are either zero or one upon measurement can be written as a sum of tensor product $\\frac{1}{\\sqrt{2}}\\left(|0\\rangle_1 \\otimes |0\\rangle_2 + |1\\rangle_1 \\otimes |1\\rangle_2 \\right) $ or simply $\\frac{1}{\\sqrt{2}}\\left(|0,0 \\rangle + |1,1 \\rangle \\right)$ (This state is one of the famous Bell states which are different two qubit entangled states)\n",
        "\n",
        "Similarly, as the 4-dimensional abstract vector $|E\\rangle = [A_{00}, A_{01}, A_{10}, A_{11}]^T$ lives in a 4-dimensional two-qubit Hilbert space $\\mathscr{H}_2 = \\mathscr{H}_{pol} \\otimes \\mathscr{H}_{spa}$ Where the 2 tensored spaces are $\\mathscr{H}_{pol} = \\text{span}\\{\\mathbf{e_x},\\mathbf{e_y}\\}$ denotes the polarization-qubit space and $\\mathscr{H}_{spa} = \\text{span}\\{\\psi_{01}(\\mathbf{r}),\\psi_{10}(\\mathbf{r}) \\}$ denotes the spatial-qubit space.\n",
        "\n",
        "As we saw in the Jones notation of non seperable case, we have a polarization vector\n",
        "space and a spatial vector space, which can be represented by the polarization Poincare sphere and the first-order spatial modes Poincare sphere respectively, as shown in the firgure below.\n",
        "\n",
        "\\\\\n",
        "<img src = \"https://drive.google.com/uc?export=view&id=1fTCBmgupkZ_k0-qraFupvfO4vvSovLEP\" >\n",
        "\n",
        "**Figure 1: Schematic visualization of (a) the polarization Poincare sphere\n",
        "representation of the binary Hilbert space $\\mathscr{H}_{pol}$ and (b) the Poincare sphere\n",
        "representation of first-order spatial modes Hilbert space $\\mathscr{H}_{spa}$**\n",
        "\n"
      ]
    },
    {
      "cell_type": "code",
      "metadata": {
        "id": "8TPBjqxzK78K"
      },
      "source": [
        "S = Stokes(\"Poincare\")\n",
        "# linearly polarized light at various angles of with horizontal\n",
        "S.linear_light(azimuth=np.linspace(0,90,5)*degrees, intensity=np.linspace(1,5,5))\n",
        "ax, fig = S.draw_poincare(figsize=(22,6), subplots='as_shape', color_scatter='Intensity')"
      ],
      "execution_count": null,
      "outputs": []
    },
    {
      "cell_type": "markdown",
      "metadata": {
        "id": "yi_ZDpUQSSTr"
      },
      "source": [
        "We define the standard basis for the polarization-qubit space and spatial-qubit space as follows:\n",
        "\n",
        "$$|0\\rangle _{pol}  = \\mathbf{e_x} \\quad |1\\rangle _{pol}  = \\mathbf{e_y}  $$\n",
        "\n",
        "$$|0\\rangle _{spa} = \\psi_{10}(\\mathbf{r}) \\quad |1\\rangle _{spa} = \\psi_{01}(\\mathbf{r})$$\n",
        "\n",
        "As shown for the example of Bell state of 2 entagled qubits, we can write a complete orthonormal basis of $\\mathscr{H}_2$ in the form of a tensor product:$|i,j \\rangle = |i\\rangle_{pol} \\otimes |j\\rangle_{spa}$ with $ i, j \\in \\{0,1\\} $. Therefore the basis states for $\\mathscr{H}_2$ are:\n",
        "\n",
        "$$|0,0\\rangle = \\mathbf{e_x}\\psi_{10}(\\mathbf{r}) \\quad |0,1\\rangle = \\mathbf{e_x}\\psi_{01}(\\mathbf{r})$$\n",
        "\n",
        "$$|1,0\\rangle = \\mathbf{e_y}\\psi_{10}(\\mathbf{r}) \\quad |1,1\\rangle = \\mathbf{e_y}\\psi_{01}(\\mathbf{r})$$\n",
        "\n",
        "With this notation we can represent the electric field as a vector in $\\mathscr{H}_2$:\n",
        "\n",
        "$$|E\\rangle = A_{00} |0,0 \\rangle + A_{01} |0,1 \\rangle +A_{10} |1,0 \\rangle +A_{11} |1,1 \\rangle $$ \n",
        "\n",
        "\n",
        "\n",
        "Therefore, the electric field of a radially polarised beam $ E(\\mathbf{r}) = \\frac{1}{\\sqrt{2}} [ \\mathbf{e_x}\\psi_{10}(\\mathbf{r}) + \\mathbf{e_y}\\psi_{01}(\\mathbf{r}) ]$ can be represented by the ket:\n",
        "\n",
        "$$ |E\\rangle = \\frac{1}{\\sqrt{2}} ( |0,0 \\rangle + |1,1 \\rangle ) $$\n",
        "\n",
        "Hence, the polarization and spatial DoF may be treated\n",
        "as two qubits that are classically entangled. The form of electric field of a radially polarised beam in $\\mathscr{H}_2$ is isomorphic to the Bell state of 2 qubits we saw earlier. However, it is important to understand that in the case of Bell state the two qubits are encoded\n",
        "in the polarization DoFs of two **separated** photons (inter-system entanglement), while\n",
        "in here the two qubits are encoded in the polarization and the spatial binary DoFs of a\n",
        "**single** light beam (intra-system entanglement)."
      ]
    },
    {
      "cell_type": "markdown",
      "metadata": {
        "id": "YonkWK9GuXvy"
      },
      "source": [
        "We now define the 4 X 4 coherency matrix $\\rho$ of the electric field as follows:\n",
        "$$ \\vert E\\rangle\\langle E\\vert := \\rho = \\left[\\begin{matrix} A_{00}A^{\\ast}_{00} & A_{00}A^{\\ast}_{01} & A_{00}A^{\\ast}_{10} & A_{00}A^{\\ast}_{11}\\\\ A_{01}A^{\\ast}_{00} & A_{01}A^{\\ast}_{01} & A_{01}A^{\\ast}_{10} & A_{01}A^{\\ast}_{11}\\\\ A_{10}A^{\\ast}_{00} & A_{10}A^{\\ast}_{01} & A_{10}A^{\\ast}_{10} & A_{10}A^{\\ast}_{11}\\\\ A_{11}A^{\\ast}_{00} & A_{11}A^{\\ast}_{01} & A_{11}A^{\\ast}_{10} & A_{11}A^{\\ast}_{11}\\\\ \\end{matrix}\\right]$$\n",
        "We can obtain the reduced 2 X 2 polarization coherency matrix $\\rho_{pol}$ encoding information about the polarization and irrespective of the spatial DoFs:\n",
        "$$\\rho_{pol}=tr_{spa}(\\rho)=\\sum_{i=0}^{1} {}_{spa}\\langle i \\vert\\rho\\vert i\\rangle {}_{spa}=AA^\\dagger$$\n",
        "where $tr_{spa}(\\cdot\\cdot\\cdot)$ denotes the trace with respect to the spatial DoFs and $A=\\left[\\begin{matrix} A_{00} & A_{01}\\\\A_{10} & A_{11}\\\\ \\end{matrix}\\right]$.\n",
        "\n",
        "Similarly, $\\rho_{spa}=tr_{pol}(\\rho)=\\sum_{i=0}^{1} {}_{pol}\\langle i \\vert\\rho\\vert i\\rangle {}_{pol}=BB^\\dagger$\n",
        "where $B=\\left[\\begin{matrix} A_{00} & A_{10}\\\\A_{01} & A_{11}\\\\ \\end{matrix}\\right]=A^{\\dagger}$.\n",
        "\n",
        "Hence $\\rho_{spa}=(A^\\dagger A)^T$. "
      ]
    },
    {
      "cell_type": "markdown",
      "metadata": {
        "id": "EghLvP85ZG9G"
      },
      "source": [
        "$\\rho_{pol}$ is Hermitian and positive-definite, so it allows a Liouville representation as follows:\n",
        "$$\\rho_{pol}=\\frac{1}{2}\\sum_{\\mu =0}^3 S_\\mu\\sigma_\\mu$$\n",
        "where $S_\\mu$ are real numbers known as the Stokes parameters of the beam and the basis set $\\{ \\sigma_\\mu \\} {}_{\\mu =0}^3$ consists of the four Pauli matrices\n",
        "\n",
        "$$\\sigma_0 =\\left[\\begin{matrix} 1 & 0\\\\0 & 1\\\\ \\end{matrix}\\right] , \\sigma_1 =\\left[\\begin{matrix} 0 & 1\\\\1 & 0\\\\ \\end{matrix}\\right] , \\sigma_2 = \\left[\\begin{matrix} 0 & -i\\\\i & 0\\\\ \\end{matrix}\\right] ,\\sigma_0 =\\left[\\begin{matrix} 1 & 0\\\\0 & -1\\\\ \\end{matrix}\\right] .$$\n",
        "\n",
        "\n",
        "Clearly tr$(\\sigma_\\mu\\sigma_\\nu)=2\\delta_{\\mu\\nu}$, so on defining inner product of two Pauli matrices as such, we obtain the matrices to be orthogonal.\n",
        "\n",
        "This gives us $S_\\mu=$tr$(\\rho_{pol}\\sigma_\\mu)$.\n",
        "\n",
        "\n",
        "For the radially polarized beam, $A=I_2/\\sqrt{2}$ and $\\rho_{pol}=I_2/2=\\rho_{spa}$ ($I_2$ is the 2X2 identity matrix). This gives us the coefficient vector $S = \\left[\\begin{matrix} 1 & 0 & 0 & 0\\\\ \\end{matrix}\\right]^T$.\n",
        "\n",
        "This might seem unintuitive at first because the $S$ vector indicates that the beam is unpolarized whereas we know that the Jones vector in this case is a function of the location and is as follows:\n",
        "$$ \\mathbf{E}(\\mathbf{r}) = \\frac{1}{\\sqrt{2}} \\left[\\begin{matrix} \\psi_{10}(\\mathbf{r})  \\\\ \\psi_{01}(\\mathbf{r}) \\end{matrix}\\right] .$$\n",
        "But this is resolved when we realise that the $S$ vector represents the global Stokes parameters of the beam, integrating the intensity of light over all the cross section of the beam, because $\\rho_{pol}$ is obtained from $\\rho$ by tracing out the spatial DoFs.\n"
      ]
    },
    {
      "cell_type": "markdown",
      "metadata": {
        "id": "eJkgGOrp6Ky4"
      },
      "source": [
        "#**Introduction to Mueller Matrices and Stokes vectors**"
      ]
    },
    {
      "cell_type": "markdown",
      "metadata": {
        "id": "WcaPl8sx6Ky6"
      },
      "source": [
        "## **Mueller matrices**"
      ]
    },
    {
      "cell_type": "markdown",
      "metadata": {
        "id": "f3EG8kgW6Ky7"
      },
      "source": [
        "Mueller matrices are 4x4 matrices that describe the linear relationship between polarization states of an incident light beam and the emerging light beam after passing through some polarizing element(s).\n",
        "The light beam is characterized by its Stokes Parameters. If $S = \\big(\\begin{smallmatrix}\n",
        "  S_0 & S_1 & S_2 & S_3\\\\\n",
        "\\end{smallmatrix}\\big)^T$ are the stokes parameters of the incident light beam, and $S' = \\big(\\begin{smallmatrix}\n",
        "  S_0' & S_1' & S_2' & S_3'\\\\\n",
        "\\end{smallmatrix}\\big)^T$ are the stokes parameters of the emerging light beam, then\n",
        "$$\n",
        "\\begin{bmatrix}\n",
        "    S_0'      \\\\[6pt]\n",
        "    S_1'      \\\\[6pt]   \n",
        "    S_2'      \\\\[6pt]\n",
        "    S_3'            \n",
        "\\end{bmatrix}\n",
        "= \n",
        "M\\begin{bmatrix}\n",
        "    S_0      \\\\[6pt]\n",
        "    S_1      \\\\[6pt]   \n",
        "    S_2      \\\\[6pt]\n",
        "    S_3           \n",
        "\\end{bmatrix} \n",
        "$$\n",
        "Here, **M** is the 4x4 matrix known as the Mueller Matrix."
      ]
    },
    {
      "cell_type": "markdown",
      "metadata": {
        "id": "Qj-9fPBQ6Ky8"
      },
      "source": [
        "## **Interpretation of the Stokes parameters**\n"
      ]
    },
    {
      "cell_type": "markdown",
      "metadata": {
        "id": "w6klWton6Ky9"
      },
      "source": [
        "Suppose we have 4 detectors, 3 with polarizers in front of them. Then, \n",
        "* #0 detects total irradiance ($I_0$)\n",
        "* #1 detects horizontally polarized irradiance ($I_1$)\n",
        "* #2 detects +45° polarized irradiance ($I_2$)\n",
        "* #3 detects right circularly polarized irradiance ($I_3$)"
      ]
    },
    {
      "cell_type": "markdown",
      "metadata": {
        "id": "dO7gjI906KzE"
      },
      "source": [
        "The stokes parameters are defined in terms of $I_is$ as follows -\n",
        "$$\n",
        "S_0 = I_0 \\\\\n",
        "S_1 = 2I_1 - I_0 \\\\\n",
        "S_2 = 2I_2 - I_0 \\\\\n",
        "S_3 = 2I_3 - I_0$$\n",
        "\n",
        "$S_0$ denotes the total irradiance, $S_1$ denotes the excess in intensity of light transmitted by a horizontal polarizer over light transmitted by a vertical polarizer, $S_2$ denotes the excess in intensity of light transmitted by a 45° polarizer over light transmitted by a 135° polarizer and $S_3$ denotes the excess in intensity of light transmitted by a RCP filter over light transmitted by a LCP filter. If the light is completely unpolarized, all these excess quantities will be zero.\n",
        "\n",
        "We define the degree of polarization in terms of the stokes parameters as follows - \\\n",
        "Degree of Polarization = $\\frac{(S_1^2 + S_2^2 + S_3^2)^{1/2}}{S_0}$"
      ]
    },
    {
      "cell_type": "markdown",
      "metadata": {
        "id": "gOuz4Q6N6KzE"
      },
      "source": [
        "## **Polarizing elements**"
      ]
    },
    {
      "cell_type": "markdown",
      "metadata": {
        "id": "E0wah1NI6KzF"
      },
      "source": [
        "When a light beam interacts with matter, its polarization state can change in four ways: \n",
        "* The amplitude of its orthogonal components. This is done with the help of Polarizers/diattenuators.\n",
        "* The relative phase between the orthogonal components. This is done by Phase Shifters (also called waveplates)\n",
        "* The vibrational directions of its orthogonal components. This is achieved by rotators\n",
        "* Energy transfer from polarized states to unpolarized states. Depolarizers are employed to achieve this task,\n"
      ]
    },
    {
      "cell_type": "markdown",
      "metadata": {
        "id": "OelySVsK6KzF"
      },
      "source": [
        "## **Difference between the Stokes vectors and the Jones vectors**"
      ]
    },
    {
      "cell_type": "markdown",
      "metadata": {
        "id": "fZFlRp3W6KzF"
      },
      "source": [
        "While both Stokes vectors and Jones vectors are used to describe the polarization of light, there are some major differences between them. Light which is unpolarized or partially polarized must be treated with Mueller calculus, whereas fully polarized light can be treated either with Mueller calculus or the Jones calculus. \\\n",
        "In other words, Stokes vectors and Mueller matrices operate on intensities and their differences, while the Jones matrices operate on the amplitudes of the electric field. \n",
        "\n",
        "Let us now see how we can measure the polarizing (and depolarizing) properties of an optical material using a classical light beam with entangled DoFs."
      ]
    },
    {
      "cell_type": "markdown",
      "metadata": {
        "id": "qGIXLFfL6KzF"
      },
      "source": [
        "# **Conventional Mueller matrix polarimetry** "
      ]
    },
    {
      "cell_type": "markdown",
      "metadata": {
        "id": "sBtijuGf6KzG"
      },
      "source": [
        "The Mueller polarimeter is a polarimeter used in measuring polarization properties. In a light polarization model, a sample (transmitting/scattering) can be represented by a 4x4 Mueller matrix. In a typical setup, the sample is sequentially illuminated with different input Stokes vectors, which are generated by passing the light from a source through a polarization state generator (PSG), comprised of a polarizer, and quarter wave plate. A complete polarization state generator (PSG) transforms the incoming light, which is unpolarized or has a constant polarization, into a beam of known polarization state. When polarized light travels in the inverse direction, the polarization generator extinguishes a beam with the orthogonal polarization. In this case the PSG works as a polarization state analyzer (PSA). The scattered light after interaction with the sample is passed through the polarization state analyzer (PSA) and finally registered by a detector (e.g., CCD camera, photodiode, etc). <br/><br/> To calculate the tissue Mueller matrix M, different combinations of input and out polarization states have been utilized. The frequently used input Stokes vectors are: linear horizontal, vertical, +45°, and right circular, while each input state is analyzed with four (six) different output Stokes vectors, including linear horizontal, vertical, +45°, and right circular (linear -45°, left circular). These 16 (24/36) combinations of Stokes vectors are used to calculate the Mueller matrix M of the sample."
      ]
    },
    {
      "cell_type": "markdown",
      "metadata": {
        "id": "aL-M1azA6KzG"
      },
      "source": [
        "\n",
        "<img src=\"https://drive.google.com/uc?export=view&id=1KABef_HTvX15PSg8lrh_D1sKNxAQzClR\" width=\"750\"> \n",
        "\n",
        "**Figure 2: Setup of Conventional Mueller Matrix Polarimetry**\n",
        "\n",
        "In Figure 2, **1** is the light source, **2** is a monochromator, **3** and **9** are polarizers, **4** and **8** are quarter wave plates, **5**, **7** and **10** are lenses, **6** is the sample and **11** is the detector. Elements **2** to **5** comprise the PSG, while elements **7** to **10** comprise the PSA."
      ]
    },
    {
      "cell_type": "markdown",
      "metadata": {
        "id": "Vp5-eltk6KzG"
      },
      "source": [
        "## **Single DoF polarimetry**"
      ]
    },
    {
      "cell_type": "markdown",
      "metadata": {
        "id": "ontk_CeL6KzG"
      },
      "source": [
        "### **Formalism**"
      ]
    },
    {
      "cell_type": "markdown",
      "metadata": {
        "id": "9FjwIoX-6KzG"
      },
      "source": [
        "This is nothing but the Mueller matrix polarimetry discussed above. In this case, the detectors are not sensitive to the spatial degrees of freedom (DoF) and hence, only resolve the polarization DoFs. \\\n",
        "We represent the standard basis for the polarization qubits and the spatial qubits as follows - "
      ]
    },
    {
      "cell_type": "markdown",
      "metadata": {
        "id": "bg_sEmpq6KzH"
      },
      "source": [
        "The electric field can be represented in $\\mathscr{H}_2$ as \\\n",
        "$$ |E⟩ = A_{00}|0,0⟩ + A_{01}|0,1⟩ + A_{10}|1,0⟩ + A_{11}|1,1⟩ $$\n",
        "If the beam is radially polarized, \n",
        "$$ |E⟩ =  \\dfrac{1}{\\sqrt{2}}(|0,0⟩ + |1,1⟩) $$"
      ]
    },
    {
      "cell_type": "markdown",
      "metadata": {
        "id": "O8Z_jRGd6KzH"
      },
      "source": [
        "<br/><br/> For a radially polarized beam, the coherency matrix $\\rho$ is defined as \n",
        "$$ \\rho = \\dfrac{1}{2}\\begin{bmatrix}\n",
        "    1 && 0 && 0 && 1  \\\\\n",
        "    0 && 0 && 0 && 0  \\\\\n",
        "    0 && 0 && 0 && 0  \\\\\n",
        "    1 && 0 && 0 && 1\n",
        "\\end{bmatrix}$$"
      ]
    },
    {
      "cell_type": "markdown",
      "metadata": {
        "id": "9a5edNxh6KzH"
      },
      "source": [
        "As mentioned above, the detection scheme in this type of polarimetry cannot resolve the spatial DoFs. In such a case, a proper representation of the beam can be obtained from the coherency matrix by tracing out the unobservable spatial DoFs. We then obtain the 2x2 polarization coherency matrix that encodes all the information about the light beam, regardless of the spatial DoFs. \\\n",
        "$$\n",
        "\\begin{align*} \n",
        "\\rho_{pol} & = tr_{spa}(\\rho) \\\\\n",
        " & = AA^{\\dagger}\n",
        "\\end{align*}\n",
        "$$\n",
        "<br/><br/>\n",
        "In a similar way, the reduced 2 × 2 spatial coherency matrix that encodes all the available information about the spatial modes of the light beam, irrespective of the polarization. \\\n",
        "$$ \\begin{align*} \n",
        "\\rho_{spa} & = tr_{pol}(\\rho) \\\\\n",
        " & = (A^{\\dagger}A)^T\n",
        "\\end{align*} $$\n",
        "where $A = \\begin{bmatrix}\n",
        "    A_{00} && A_{01} \\\\\n",
        "      A_{10} && A_{11}\n",
        "\\end{bmatrix}$"
      ]
    },
    {
      "cell_type": "markdown",
      "metadata": {
        "id": "ZrqKPbzB6KzI"
      },
      "source": [
        "As seen above, it admits a Liouville representation of the form \\\n",
        "$$\\rho_{pol} = \\dfrac{1}{2}\\sum_{\\mu=0}^{3} S_{\\mu}\\sigma_{\\mu}$$ \n",
        "where $S_{\\mu}$ are the stokes parameters and $\\sigma_{\\mu}$ are the Pauli matrices. Since, $\\sigma_{\\mu}\\sigma_{\\nu} = 2\\delta_{\\mu\\nu}$, we can write $S_{\\mu}$ = tr($\\rho_{pol} \\sigma_{\\mu})$"
      ]
    },
    {
      "cell_type": "markdown",
      "metadata": {
        "id": "kbtLvT2f6KzI"
      },
      "source": [
        "### **Calculating the Mueller matrix**"
      ]
    },
    {
      "cell_type": "markdown",
      "metadata": {
        "id": "YrVvbF2i6KzI"
      },
      "source": [
        "Let us consider local linear transformations of the form $T_{pol} \\otimes T_{spa}$, i.e. transformations that act on each DoF separately, where $T_i$ is the Jones matrix. Since we are concerned only with the polarization DoF, one can take $T_{spa} = \\mathcal{I}_2$, where $\\mathcal{I}_2$ is the 2x2 identity matrix. $T_{pol}$ can then be denoted as $T$ itself for convenience sake."
      ]
    },
    {
      "cell_type": "markdown",
      "metadata": {
        "id": "2-nT76PB6KzI"
      },
      "source": [
        "Under the action of $T$, $E$ transforms to $E'$ as \\\n",
        "$$\\begin{align*} \n",
        "|E'⟩ & = (T \\otimes \\mathcal{I}_2)|E⟩ \\\\\n",
        " & = \\sum_{i,j=0}^{1} A'_{ij}|i,j⟩\n",
        "\\end{align*}$$\n",
        "Using A' = TA and $\\rho_{pol} = A'(A')^{\\dagger}$, we get \\\n",
        "$$\\rho_{pol}' = TAA^{\\dagger}T^{\\dagger}$$"
      ]
    },
    {
      "cell_type": "markdown",
      "metadata": {
        "id": "FoqnYp276KzI"
      },
      "source": [
        "If the input beam is prepared in 4 different polarization states, each labelled by the index $\\alpha \\in \\{0,1,2,3\\}$ and $S_{\\nu}(\\alpha)$ \\& $S'_{\\mu}(\\alpha)$ are the stokes parameters of the input and output beams respectively , then \\\n",
        "$$S'_{\\mu}(\\alpha) = \\sum_{\\nu = 0}^{3} M_{\\mu\\nu}S_{\\nu}(\\alpha)$$\n",
        "We then obtain \n",
        "$M_{\\mu\\nu} = \\dfrac{1}{2}$tr($\\sigma_{\\mu}T\\sigma_{\\nu}T^{\\dagger}$) \\\n",
        "\n",
        "This gives us 16 equations. Noting that $M_{\\mu\\nu}$ are the elements of the Mueller matrix **M**, the Mueller matrix is finally calculated.\n"
      ]
    },
    {
      "cell_type": "markdown",
      "metadata": {
        "id": "RL2gfSNI6KzJ"
      },
      "source": [
        "## **Two-DoF Polarimetry**"
      ]
    },
    {
      "cell_type": "markdown",
      "metadata": {
        "id": "8wlEBCSQ6KzJ"
      },
      "source": [
        "In the two-DoF polarimetry, the detector can resolve the polarization DoFs as well as the spatial DoFs. The coherency matrix in this case can be written as \\\n",
        "$$\\rho = \\dfrac{1}{4}\\sum_{\\mu,\\nu = 0}^{3} S_{\\mu\\nu} (\\sigma_{\\mu} \\otimes \\sigma_{\\nu})$$\n",
        "which implies that $S_{\\mu\\nu} =$ tr[$\\rho(\\sigma_{\\mu} \\otimes \\sigma_{\\nu})$]\n",
        "The spatial and polarization DoFs are encoded in the same radially polarized beam of light. For such a beam, the 2 DoFs stokes parameters can be written as\n",
        "$S_{\\mu\\nu} = \\lambda_{\\mu}\\delta_{\\mu\\nu}$, where $\\lambda_{\\mu} = \\{1,1,-1,1\\}$"
      ]
    },
    {
      "cell_type": "markdown",
      "metadata": {
        "id": "0qOwe2x66KzJ"
      },
      "source": [
        "Under the action of $\\mathcal{T}$ similar to the single DoF case (we assume that $\\mathcal{T}$ does not vary over the cross section of the input beam), $\\rho$ transforms as \n",
        "$$\\rho' = (\\mathcal{T} \\otimes \\mathcal{I}_2)\\rho(\\mathcal{T}^{\\dagger} \\otimes \\mathcal{I}_2)$$"
      ]
    },
    {
      "cell_type": "markdown",
      "metadata": {
        "id": "3ZOibst56KzJ"
      },
      "source": [
        "Combining this relation and $S'_{\\mu\\nu} =$ tr[$\\rho'(\\sigma_{\\mu} \\otimes \\sigma_{\\nu})$], we get\n",
        "$$\\begin{align*} \n",
        "S'_{\\mu\\nu} & = \\dfrac{1}{4}\\sum_{\\alpha = 0}^{3}\\lambda_{\\alpha}tr(\\sigma_{\\mu}\\mathcal{T}\\sigma_{\\alpha}\\mathcal{T}^{\\dagger})tr(\\sigma_{\\alpha}\\sigma_{\\nu}) \\\\\n",
        " & = M_{\\mu\\nu}\\lambda_{\\mu}\n",
        "\\end{align*}$$\n"
      ]
    },
    {
      "cell_type": "markdown",
      "metadata": {
        "id": "fl_i_hh36KzK"
      },
      "source": [
        "Since $\\lambda_{\\nu}$ = 1 for $\\nu$ = 0,1,3 and $\\lambda_{\\nu}$ = -1 for $\\nu$ = 2, we directly obtain\n",
        "$$\n",
        "    M_{\\mu\\nu}= \n",
        "\\begin{cases}\n",
        "     S'_{\\mu\\nu},& \\text{if } \\nu = 2\\\\\n",
        "     -S'_{\\mu\\nu},& \\text{if } \\nu = 0,1,3\\\\\n",
        "\\end{cases}\n",
        "$$"
      ]
    },
    {
      "cell_type": "markdown",
      "metadata": {
        "id": "5J83Ezpf6KzK"
      },
      "source": [
        "\n",
        "\n",
        "An important observation here is that in case of the single DoF polarimetry, the polarization state of the light beam was pre-selected before the interaction with the sample, due to which the sample could be probed only by a single polarization state at a time. However in case of the two DoF polarimetry, the polarization state was post-selected after the interaction with the sample, thereby probing the sample by all the possible polarization states at once. "
      ]
    },
    {
      "cell_type": "markdown",
      "metadata": {
        "id": "UpIUHGyudLry"
      },
      "source": [
        "# **Real-time Single-shot Mueller Matrix Polarimetry**\n",
        "\n",
        "As discussed before, we can describe the optical response of a material to incident light beam using Mueller Matrix. In this section, the novel method to measure Mueller matrix as proposed in the paper is discussed. \n",
        "\n",
        "We estimate the sixteen two-DoF Stokes parameters by measuring certain intensities of the transformed versions of incident radial beam in a single iteration of the experiment, as against 4 iterations in the conventional Mueller Matrix polarimetry. \n",
        "\n",
        "\n",
        "\n"
      ]
    },
    {
      "cell_type": "markdown",
      "metadata": {
        "id": "leapjgXT_13z"
      },
      "source": [
        "## **The Idea**\n",
        "\n",
        "The underlying idea is to first project the spatial mode of the radially polarized beam into four spatial modes $\\{\\psi_{10}, \\psi_{01}, \\psi_{+},\\psi_{L} \\}$ and then these separated beams postselect the polarizations states $\\{\\textbf{e}_{x},\\textbf{e}_{y},\\textbf{e}_{+},\\textbf{e}_{R} \\}$.\n",
        "\n",
        "Postselection refers to conditioning the probabilities of possible outcomes of an event on some other given event. In our case, we condition the probabilities of measuring different polarization DoFs on the occurence of spatial DoFs. Necessity of postselection and its implication is reflected in the improvement of the rate of Fischer Information (average information learned about an unknown parameter from a trial) to cost [1]."
      ]
    },
    {
      "cell_type": "markdown",
      "metadata": {
        "id": "nwFlfy6NAApv"
      },
      "source": [
        "## **The Procedure**\n",
        "\n",
        "The bird's-eye-view of the experimental setup is as shown in the Figure 3.\n",
        "\n",
        "<img src=\"https://drive.google.com/uc?export=view&id=1Ob4VC66z8dhE_CqPhI65AbALgBCnodDE\" width=\"750\">\n",
        "\n",
        "**Figure 3: The Experimental Setup for Real-Time Single Shot MM Polarimetry**\n",
        "\n",
        "Note: Devices involved in this experiment are marked with '*' and the details and construction of these devices are discussed in a later section.\n",
        "\n",
        "(1) To resolve the spatial DoF, we trifurcate the beam emerging from the sample into 3 beams of equal intensity using two beam splitters*. <br>\n",
        "\n",
        "(2) The split beams are sent to 3 **Mode Converters** (**MCs**)* that are tasked with projecting the beam onto a particular basis of spatial modes. The three bases that we use in this experiment are: $\\{\\psi_{L}, \\psi_{R}\\}$ (circular), $\\{\\psi_{+}, \\psi_{-}\\}$ (diagonal), and $\\{\\psi_{10}, \\psi_{01}\\}$ (horizontal and vertical).\n",
        "\n",
        "\n",
        "**A diggression: Why does selecting a pair of spatial DoFs works?** Because Jones Vector is rank 2 column matrix so it requires two orthogonal vectors for forming the basis.\n"
      ]
    },
    {
      "cell_type": "markdown",
      "metadata": {
        "id": "aAL4A7CrAJuh"
      },
      "source": [
        "(3) MC A selects $\\{\\psi_{L}, \\psi_{R}\\}$ and transforms it to $\\{\\psi_{10}, \\psi_{01}\\}$ using a $\\dfrac{\\pi}{2}$ converter.<br>\n",
        "MC B selects $\\{\\psi_{+}, \\psi_{-}\\}$ and transforms it to $\\{\\psi_{10}, \\psi_{01}\\}$ using a $\\pi$ converter. <br>\n",
        "MC C is empty space and it does not change any modes.<br>\n",
        "\n",
        "(4) Each Mode Converter is followed by a Mode Beam Splitter (MBS)\\*. MBS separates the beam coming from MC into its orthogonal components. \\\n",
        "The MBS following the MC A splits the its input beam into $\\psi_{L}$ and $ \\psi_{R}$ component beams.<br>\n",
        "The MBS following the MC B splits its input beam into $\\psi_{+}$ and $ \\psi_{-}$ component beams.<br>\n",
        "The MBS following the MC C splits its input beam into $\\psi_{10}$ and $ \\psi_{01} $ component beams.<br>\n",
        "\n",
        "(5) By selecting one of the outputs of MBS A , MBS B and MBS C, we get the sought four spatial modes $\\{\\psi_{10}, \\psi_{01}, \\psi_{+},\\psi_{L} \\}$<br>\n",
        "\n",
        "We have physically acted upon and elucidated the spatial DoF, now we can analyze the polarization: Postselection of the polarization of the light beam.<br>\n",
        "\n",
        "(6) We pass the light beam exiting each MBS through a conventional polarization measurement (CPM)\\* setup. <br>\n",
        "\n",
        "(7) The input to the CPM is split into three beams of equal intensity and each beam is passed through a polarization converter (PC)\\* (analogous to mode converter MC). Each PC is coupled to a polarizing beam splitter (PBS)\\* (analogous to MBS). The task of the PC PBS pair is to select one of the polarization basis (PC) and then split the selected beam into its orthogonal polarization basis beams. PC A selects circular polarization, PC B selects diagonal polarization, and PC C, like MC C, is empty state, because we want vertical and horizontal linear polarization basis. The corresponding PBS split the select polarization pair into the orthogonal components.\n",
        "\n",
        "(8) The intensity of the light $I_{\\alpha \\beta}$ projected in the state  $\\textbf{e} _{\\alpha}\\psi _{\\beta}$ is recorded by a photodetector that is labeled with the same indices $\\alpha \\beta$. Here, the first index $\\alpha$ marks the polarization qubit and the second index $\\beta$ the spatial one.\n",
        "\n",
        "(9) From the measured intensities, one can obtain the two-DoF Stokes parameters $S_{\\mu \\nu}$, and consequently the Mueller Matrix.\n",
        "\n",
        "Since we are measuring all 16 independent intensities simultaneously, we call it single shot Mueller Matrix Polarimetry or \"real-time\" polarimetry.\n",
        "\n",
        "**Why is MC C empty?** MC C is just empty space because we want $\\{\\psi_{10}, \\psi_{01}\\}$ basis from the MC C and MBS is splitting the beam into its $\\psi_{10}$ and $\\psi_{01}$ components. First a MC transforms the state of beam from the material into a chosen basis, then a MBS projects the transformed state onto the basis $\\psi_{10} $ and $\\psi_{01} $ based on the coefficients of the orthogonal components of the beam emerging from MC. For MC C, no change of basis is required. So, MC C if at all being a physical device, would perform identity operation only.\n",
        "\n"
      ]
    },
    {
      "cell_type": "markdown",
      "metadata": {
        "id": "TRrWHB-tt_fL"
      },
      "source": [
        "## **The Devices**\n",
        "\n",
        "We used five kinds of devices in this experimental setup:\n",
        "1. Beam Splitters\n",
        "2. Mode Converters\n",
        "3. Mode Beam Splitters\n",
        "4. Polarization Converters\n",
        "5. Polarizing Beam Splitters\n",
        "6. Photodetectors\n",
        "\n",
        "\n"
      ]
    },
    {
      "cell_type": "markdown",
      "metadata": {
        "id": "ipf11fa3Uw_U"
      },
      "source": [
        "### **Beam Splitters**\n",
        "Beam Splitter split the incoming input beam into two halves with a certain ratio of intensity. The most common form of a beam splitter is a cube formed from two triangular prisms separated at a small distance through some media (glue to join the prisms) and the beam splitting is physically accomplished by using the concept of frustrated TIR. The following shows a basic structure of beam splitter using FTIR:\n",
        "\n",
        "<img src=\"https://drive.google.com/uc?export=view&id=163RKlH1C-8YDhg5c760XPgSin_Fsbjfy\" width=\"450\">\n",
        "\n",
        "**Figure 4: Beam Splitter Cube (non-polarizing)**[2]\n",
        "\n",
        "Here, the $n_{1}>n_{2}$ and $n_{3}>n_{2}$ for FTIR to happen.\n",
        "\n",
        "In our setup, we require 5 pairs of beam splitters. One pair trifurcates beam coming from material under study and sends the trifurcated beams to the 3 MC and then the remaining 4, one each in each of the CPM.\n",
        "\n",
        "For each pair, first splitter reflects 1/3 and transmits 2/3 and the second one reflects and transmits 1/2 of the incoming beam as shown below:\n",
        "\n",
        "<img src=\"https://drive.google.com/uc?export=view&id=1qYUxH5oCZoKhZiYGL_ufVOdKlgX3_iCf\" width=\"450\">\n",
        "\n",
        "\n",
        "\n",
        "\n",
        "**Figure 5: Schematic Representation of Beam Splitters in the Setup with their splitting intensity ratios**\n"
      ]
    },
    {
      "cell_type": "code",
      "metadata": {
        "id": "VXTpexZNzv0B"
      },
      "source": [
        "plt.figure(figsize=(5,3), dpi=150) \n",
        "#let n1=1 (air) n1=n3=1.5 (glass) and angle of incidence=45 degrees\n",
        "n1=1.5\n",
        "n2=1\n",
        "n3=1.5\n",
        "#let frequency of the light beam used be sodium D line: wavelength= 589.3 nm\n",
        "# wavelength\n",
        "wavelength=589.3*np.power(10.0,-9)\n",
        "k=2*np.pi/wavelength\n",
        "\n",
        "alpha=n1/np.sqrt(n1*n1-2*n2*n2)\n",
        "beta=k*np.sqrt((n1*n1/2) -n2*n2)\n",
        "\n",
        "# here d is the separation between the prisms forming the beam splitter\n",
        "# d_by_w is d divided by wavelength of inspection beam\n",
        "d_by_w=np.linspace(0,1,10000,endpoint=True)\n",
        "\n",
        "# considering reflectance and transmittance of electric mode\n",
        "R_TE=[]\n",
        "T_TE=[]\n",
        "\n",
        "#2/3 T 1/3 R splitter:\n",
        "r1=np.full((10000,),0.33, dtype='float32')\n",
        "\n",
        "#1/2 T 1/2 R splitter\n",
        "r2=np.full((10000,),0.50, dtype='float32')\n",
        "\n",
        "for i in range(0,len(d_by_w)):\n",
        "  R_TE.append((np.power((1-np.power(alpha,2))*np.sinh(beta*wavelength*d_by_w[i]),2)+np.power(2*alpha*np.sinh(beta*wavelength*d_by_w[i]),2))/(np.power((1-np.power(alpha,2))*np.sinh(beta*wavelength*d_by_w[i]),2)+np.power(2*alpha*np.cosh(beta*wavelength*d_by_w[i]),2)))\n",
        "  T_TE.append((np.power(2*alpha,2))/(np.power((1-np.power(alpha,2))*np.sinh(beta*wavelength*d_by_w[i]),2)+np.power(2*alpha*np.cosh(beta*wavelength*d_by_w[i]),2)))\n",
        "plt.plot(d_by_w, R_TE,color='red', label='Reflectance')\n",
        "plt.plot(d_by_w, T_TE, color='blue', label='Transmittance')\n",
        "plt.plot(d_by_w,r1, color='black', linestyle='dotted', linewidth=2, label='1/3 Reflectance')\n",
        "plt.plot(d_by_w,r2, color='green', linestyle='--', linewidth=1, label='1/2 Reflectance')\n",
        "\n",
        "plt.title(\"Variation of Reflectance and Transmittance with d/wavelength\")\n",
        "plt.xlabel(\"d/wavelength\")\n",
        "plt.ylabel(\"Reflectance and Transmittance\")\n",
        "plt.xticks(np.linspace(0,1,21,endpoint=True),rotation=90)\n",
        "plt.yticks(np.linspace(0,1,11,endpoint=True))\n",
        "plt.legend(ncol=2, loc='lower left',fontsize=6)\n",
        "plt.show()"
      ],
      "execution_count": null,
      "outputs": []
    },
    {
      "cell_type": "markdown",
      "metadata": {
        "id": "7fZJGdJyVQcZ"
      },
      "source": [
        "### **Mode Converters**\n",
        "\n",
        "The Mode Converters filter out spatial information except for a particular mode. A monochromatic paraxial laser light beam can be decoposed into Hermite-Gaussian (HG) modes (there are some other modes like Laguerre-Gaussian and Bessel Modes as well). These modes define how does the electric field magnitude varies spatially.\n",
        "\n",
        "For a light beam propagating along $z$ axis:\n",
        "$$ E^{HG}_{nm}=\\frac{C^{HG}_{nm}}{w}e ^{\\frac{-ik(x^{2}+y^{2})}{2R}} e ^{\\frac{-(x^{2}+y^{2})}{w^{2}}} e ^{-i(n+m+1)\\phi}H_{n}(\\frac{x\\sqrt(2)}{w})H_{m}(\\frac{y\\sqrt(2)}{w})$$\n",
        "\n",
        "Here:\n",
        "$H_{n}$ is Hermite Polynomial\n",
        "$$R(z)=\\dfrac{z_{R}^{2}+z^{2}}{z}$$\n",
        "$$ \\dfrac{kw^{2}(z)}{2}=\\dfrac{z_{R}^{2}+z^{2}}{z_{R}} $$\n",
        "$$\\phi(z)=\\arctan (\\frac{z}{z_{R}})$$ \n",
        "\n",
        "The $\\psi$ that we discussed in preceding sections is given by $E^{HG}_{nm}$.\n",
        "\n",
        "The parameter $z_{R}$ is the Rayleigh Range of the mode and $C^{HG}_{nm}$ is a constant: $C^{HG}_{nm}=( \\dfrac{2}{\\pi n! m!})^{1/2}2^{-(n+m)/2}$\n",
        "\n",
        "The mode converter rephases the terms in decomposition of $E$ to change the overall mode of the beam. We make a mode converter using two identical cylindrical lenses separated by a distance $2d$. The phase difference $\\theta$ [3] introduced by the MC is given by:\n",
        "$$ \\theta = 2[\\arctan(\\sqrt{\\dfrac{f+d}{f-d}})-\\arctan(\\sqrt{\\dfrac{f-d}{f+d}})] $$\n",
        "\n",
        "For $\\theta = \\pi/2$, we get $d=f/\\sqrt{2}$ and for $\\theta = \\pi$, we get $d=f$.\n",
        "\n",
        "The three mode converters MC A, MC B, and MC C is shown in Figure 6 below:\n",
        "\n",
        "<img src=\"https://drive.google.com/uc?export=view&id=1iq1A7fkVkIDpfAA9nrvcL81hdjtF5wmi\" width=\"200\">\n",
        "\n",
        "**Figure 6: The three MC used in the experiment, MC A, MC B, MC C (empty space) respectively**"
      ]
    },
    {
      "cell_type": "code",
      "metadata": {
        "id": "emw1lsqGpBPp"
      },
      "source": [
        "plt.figure(figsize=(5,3), dpi=150) \n",
        "d_by_f= np.linspace(0,1,10000,endpoint=False)\n",
        "pi_shift=np.full((10000,),180,dtype='int32')\n",
        "pi_bytwo_shift=np.full((10000,),90,dtype='int32')\n",
        "x_asymp=np.full((10000,),1,dtype='int32')\n",
        "theta=[]\n",
        "\n",
        "for i in range(0,len(d_by_f)):\n",
        "  theta.append(2*180*(np.arctan(np.sqrt((1+d_by_f[i])/(1-d_by_f[i])))-np.arctan(np.sqrt((1-d_by_f[i])/(1+d_by_f[i]))))/np.pi)\n",
        "plt.plot(d_by_f,theta, label=\"Variation of Phase Shift with f/d\",color=\"blue\")\n",
        "plt.plot(d_by_f,pi_shift, label=\"Pi Shift\",color=\"red\", linestyle='--', linewidth=1)\n",
        "plt.plot(d_by_f,pi_bytwo_shift, label=\"Pi by 2 Shift\",color=\"green\",linestyle='--', linewidth=1)\n",
        "plt.plot(x_asymp,theta, label=\"Asymptote at f/d=1\",color=\"black\",linestyle='--', linewidth=1)\n",
        "\n",
        "plt.title(\"Variation of Phase Shift with f/d\")\n",
        "plt.legend(fontsize='7',loc='best', ncol=2)\n",
        "plt.xlabel(\"f/d\")\n",
        "plt.ylabel(\"Phase Shift in Degrees\")\n",
        "plt.yticks([0,18,36,54,72,90,108,126,144,162,180])\n",
        "plt.show()"
      ],
      "execution_count": null,
      "outputs": []
    },
    {
      "cell_type": "markdown",
      "metadata": {
        "id": "IFdBDUxIjlx1"
      },
      "source": [
        "### **Mode beam splitter**\n",
        "The MBS are made of a modified Mach-Zehnder Interferometer with an extra mirror in one arm and a half-wave plate in the other arm and in the output port.\n",
        "\n",
        "<img src=\"https://drive.google.com/uc?export=view&id=1WCDZsRo3EMxM1Pp0i1t6tCka2oFYcYQv\" width=\"450\">\n",
        "\n",
        "**Figure 7: The Mode Beam Splitter, based on Mach-Zehnder Interferometer**\n",
        "\n",
        "On each reflection the handedness of the spatial modes is inverted and phase difference between $x$ and $y$ polarization components is shifted by $\\pi$. We have assumed two inputs (for symmetry in mathematical consideration) in this setup for MBS, the first one being our beam of interest  $E_{1}^{in}=[A_{00}\\psi_{10} (\\textbf{r})+A_{01}\\psi_{01} (\\textbf{r})]\\textbf{e}_{x}+[A_{10}\\psi_{10} (\\textbf{r})+A_{11}\\psi_{01} (\\textbf{r})]\\textbf{e}_{y}$ and the second one being $E_{2}^{in}=0$.\n",
        "\n",
        "The HG mode $\\psi_{10}$ changes sign upon reflection, whereas $\\psi_{01}$ doesn't changes sign.\n"
      ]
    },
    {
      "cell_type": "markdown",
      "metadata": {
        "id": "tigVt_Iu4GRM"
      },
      "source": [
        "### **Polarization Converter**\n",
        "Analogous to Mode converters, the Polarization converters select one of the bases and reject the other bases for the polarization DoF of the light beam. The polarization converters are based on the concept of retarders. Retarders introduce a phase lag between the two constituent coherant polarization states. \n",
        "\n",
        "To construct PC A, we use a Quarter Wave Plate (QWP) with its fast axis tilted by $\\pi /4$ with respect to horizontal direction. QWP introduces a relative phase shift of $\\pi /2$ between the $o-$ and $e-$ components of the wave. This means that a radial beam will be elucidated into left and right eliptic polarizations. When the linear light is at $45^{o}$ to either principal axis, the emerging waves have equal $o-$ and $e-$ components amplitudes. \n",
        "\n",
        "<img src=\"https://drive.google.com/uc?export=view&id=1vk8fa5qvCVufwu56U2GecAUW03t65SeF\" width=\"450\">\n",
        "\n",
        "**Figure 8: Quarter Wave Plate Retarder**[4]\n",
        "\n",
        "For PC B, we use a Half Wave Plate (HWP) with its fast axis tilted by $\\pi /8$ with respect to horizontal direction. HWP introduces a relative phase difference of $\\pi$ between the $o-$ and $e-$ components of the wave. Incident linear polarized light at an angle $\\theta$ with fast axis rotated through $2\\theta$ about the fast axis. So, to obtain diagonally polarized light beams, we want the beam to oscillate at $45^{o}$ with the $x$ and $y$ axis, therefore the fast axis is tilted at $22.5^{o}$ degrees with horizontal axis.\n",
        "\n",
        "<img src=\"https://drive.google.com/uc?export=view&id=1sOcNgBM-9DozqADrMvUs3jDTUHePrvoe\" width=\"450\">\n",
        "\n",
        "**Figure 9: Half Plate Wave Retarder**[4]\n",
        "\n",
        "We want linear polarization states only for the third mode so PC C, like MC C, is empty space.\n"
      ]
    },
    {
      "cell_type": "code",
      "metadata": {
        "id": "CqfCkOvAb3yp",
        "colab": {
          "base_uri": "https://localhost:8080/"
        },
        "outputId": "604ed199-4704-4b62-f3f0-00b2c42d874b"
      },
      "source": [
        "M1 = Mueller(\"quarter_waveplate\")\n",
        "M1.quarter_waveplate(azimuth=np.pi/4)\n",
        "M1.M=np.matrix.round(M1.M, decimals=2)\n",
        "print(M1)\n",
        "\n",
        "M2 = Mueller(\"half_waveplate\")\n",
        "M2.half_waveplate(azimuth=np.pi/8)\n",
        "M2.M=np.matrix.round(M2.M, decimals=2)\n",
        "print(M2)"
      ],
      "execution_count": 6,
      "outputs": [
        {
          "output_type": "stream",
          "text": [
            "quarter_waveplate @ 45.00 deg = \n",
            "[+1.000 +0.000 +0.000 +0.000 \b]   \n",
            "[+0.000 +0.000 +0.000 -1.000 \b]   \n",
            "[+0.000 +0.000 +1.000 +0.000 \b]   \n",
            "[+0.000 +1.000 -0.000 +0.000 \b]   \n",
            "\n",
            "half_waveplate @ 22.50 deg = \n",
            "[+1.000 +0.000 +0.000 +0.000 \b]   \n",
            "[+0.000 +0.000 +1.000 +0.000 \b]   \n",
            "[+0.000 +1.000 -0.000 +0.000 \b]   \n",
            "[+0.000 +0.000 +0.000 -1.000 \b]   \n",
            "\n"
          ],
          "name": "stdout"
        }
      ]
    },
    {
      "cell_type": "code",
      "metadata": {
        "colab": {
          "base_uri": "https://localhost:8080/",
          "height": 580
        },
        "id": "Udbj5oCU3cw6",
        "outputId": "7bf216cd-98a3-4427-b5b4-2aaf6431d7ce"
      },
      "source": [
        "S0=Stokes(\"Horizontal Linear Polarization\")\n",
        "S0.linear_light(azimuth=0*degrees)\n",
        "S0.M=np.matrix.round(S0.M, decimals=2)\n",
        "print(S0.M)\n",
        "axis, fig = S0.draw_ellipse(draw_arrow=True, figsize=(7,7))"
      ],
      "execution_count": 7,
      "outputs": [
        {
          "output_type": "stream",
          "text": [
            "[[1.]\n",
            " [1.]\n",
            " [0.]\n",
            " [0.]]\n"
          ],
          "name": "stdout"
        },
        {
          "output_type": "display_data",
          "data": {
            "image/png": "[encoded data removed]",
            "text/plain": [
              "<Figure size 504x504 with 1 Axes>"
            ]
          },
          "metadata": {
            "tags": [],
            "needs_background": "light"
          }
        }
      ]
    },
    {
      "cell_type": "code",
      "metadata": {
        "colab": {
          "base_uri": "https://localhost:8080/",
          "height": 514
        },
        "id": "fRmI8KNb3f9N",
        "outputId": "b931293b-d349-4e8e-ffdd-e068e8febd2f"
      },
      "source": [
        "S1=Stokes(\"Vertical Linear Polarization\")\n",
        "S1.linear_light(azimuth=90*degrees)\n",
        "S1.M=np.matrix.round(S1.M, decimals=2)\n",
        "print(S1.M)\n",
        "axis, fig = S1.draw_ellipse(draw_arrow=True, figsize=(7,7))"
      ],
      "execution_count": 8,
      "outputs": [
        {
          "output_type": "stream",
          "text": [
            "[[ 1.]\n",
            " [-1.]\n",
            " [ 0.]\n",
            " [ 0.]]\n"
          ],
          "name": "stdout"
        },
        {
          "output_type": "display_data",
          "data": {
            "image/png": "[encoded data removed]",
            "text/plain": [
              "<Figure size 504x504 with 1 Axes>"
            ]
          },
          "metadata": {
            "tags": [],
            "needs_background": "light"
          }
        }
      ]
    },
    {
      "cell_type": "code",
      "metadata": {
        "colab": {
          "base_uri": "https://localhost:8080/",
          "height": 649
        },
        "id": "uWluDOUb3gqX",
        "outputId": "91f9e3e5-fc0a-4d3f-9c38-518694fa1820"
      },
      "source": [
        "linear_p_h_state=np.reshape(S0.M, (4,))\n",
        "QWP=np.reshape(M1.M, (4,4))\n",
        "HWP=np.reshape(M2.M, (4,4))\n",
        "\n",
        "qwp_output=np.matmul(QWP, linear_p_h_state)\n",
        "qwp_output=tuple(qwp_output.tolist())\n",
        "S2=Stokes(\"PC A Output for Horizontal Linear Polarized Input\")\n",
        "S2.from_components(qwp_output)\n",
        "axis, fig = S2.draw_ellipse(draw_arrow=True, figsize=(7,7))\n",
        "\n",
        "hwp_output=np.matmul(HWP, linear_p_h_state)\n",
        "hwp_output=tuple(hwp_output.tolist())\n",
        "S3=Stokes(\"PC B Output for Horizontal Linear Polarized Input\")\n",
        "S3.from_components(hwp_output)\n",
        "axis, fig = S3.draw_ellipse(draw_arrow=True, figsize=(7,7))"
      ],
      "execution_count": 9,
      "outputs": [
        {
          "output_type": "display_data",
          "data": {
            "image/png": "[encoded data removed]",
            "text/plain": [
              "<Figure size 504x504 with 1 Axes>"
            ]
          },
          "metadata": {
            "tags": [],
            "needs_background": "light"
          }
        },
        {
          "output_type": "display_data",
          "data": {
            "image/png": "[encoded data removed]",
            "text/plain": [
              "<Figure size 504x504 with 1 Axes>"
            ]
          },
          "metadata": {
            "tags": [],
            "needs_background": "light"
          }
        }
      ]
    },
    {
      "cell_type": "code",
      "metadata": {
        "colab": {
          "base_uri": "https://localhost:8080/",
          "height": 719
        },
        "id": "kWgmVyPH2xBu",
        "outputId": "52e81328-1916-4d99-e6cd-75da2eaea11d"
      },
      "source": [
        "linear_p_v_state=np.reshape(S1.M, (4,))\n",
        "QWP=np.reshape(M1.M, (4,4))\n",
        "HWP=np.reshape(M2.M, (4,4))\n",
        "\n",
        "qwp_output=np.matmul(QWP, linear_p_v_state)\n",
        "qwp_output=tuple(qwp_output.tolist())\n",
        "S4=Stokes(\"PC A Output for Vertical Linear Polarized Input\")\n",
        "S4.from_components(qwp_output)\n",
        "axis, fig = S4.draw_ellipse(draw_arrow=True, figsize=(7,7))\n",
        "\n",
        "hwp_output=np.matmul(HWP, linear_p_v_state)\n",
        "hwp_output=tuple(hwp_output.tolist())\n",
        "S5=Stokes(\"PC B Output for Vertical Linear Polarized Input\")\n",
        "S5.from_components(hwp_output)\n",
        "axis, fig = S5.draw_ellipse(draw_arrow=True, figsize=(7,7))"
      ],
      "execution_count": 10,
      "outputs": [
        {
          "output_type": "display_data",
          "data": {
            "image/png": "[encoded data removed]",
            "text/plain": [
              "<Figure size 504x504 with 1 Axes>"
            ]
          },
          "metadata": {
            "tags": [],
            "needs_background": "light"
          }
        },
        {
          "output_type": "display_data",
          "data": {
            "image/png": "[encoded data removed]",
            "text/plain": [
              "<Figure size 504x504 with 1 Axes>"
            ]
          },
          "metadata": {
            "tags": [],
            "needs_background": "light"
          }
        }
      ]
    },
    {
      "cell_type": "markdown",
      "metadata": {
        "id": "u1JRMOjv_-P6"
      },
      "source": [
        "### **Polarizing Beam Splitters**\n",
        "Just like MBS, Polarizing beam splitter split their inputs into the two orthogonal polarization states. Most common type is a Polarizing cube, that works like a beam splitter cube, splitting the incident beams into two part, but orthonal polarizations. To do so, it uses Brewster's Law. The polaring cube is made of of multiple sheets of dielectric material. The reflected beams from the multiple sheets collectively form one of the two emergent beams and similarly for the refracted beams.\n",
        "\n",
        "The figure adapted from [4] shows a rough sketch of the device. The input in the figure is an unpolarized light so it gets split into linearly polarized lights (this happens in PBS C). In our case, the input beam is a mixture of two orthonal polarizations of three bases, so the emergent beams will be the components of those bases, not necessarily the linearly polarized beams.\n",
        "\n",
        "<img src=\"https://drive.google.com/uc?export=view&id=1m711Re4rtzDB1_pYM0vioMoTsWw-AGoL\" width=\"450\">\n",
        "\n",
        "**Figure 10: Polarizing Beam Splitter, with input and output example for PC C**[4]"
      ]
    },
    {
      "cell_type": "markdown",
      "metadata": {
        "id": "AWE7MdvcbLLU"
      },
      "source": [
        "### **Photodetectors**"
      ]
    },
    {
      "cell_type": "markdown",
      "metadata": {
        "id": "axt7vruBU19s"
      },
      "source": [
        "This summarized the physical construct of the experiment. We now move on to calculate the Mueller matrix from the measured intensities."
      ]
    },
    {
      "cell_type": "markdown",
      "metadata": {
        "id": "6k9mxYsm5T0x"
      },
      "source": [
        "# **Calculation of Mueller Matrix from the measured intensities**\n",
        "We now develop the mathematical formalism to derive Mueller Matrix from the intensities that we measure in the Real-time single shot Mueller Matrix Polarimetry."
      ]
    },
    {
      "cell_type": "markdown",
      "metadata": {
        "id": "HcmM_lbDaNxZ"
      },
      "source": [
        "Here is a slight digression where we introduce the different basis sets and how to make transformations from one to the other:\n",
        "\n",
        "The standard basis states for the single qubit 2D Hilbert space, $|0\\rangle$ and $|0\\rangle$, are defined as the eigenstates of the $\\sigma_3$ Pauli matrix.\n",
        "Two alternate basis sets are $\\{|+\\rangle, |-\\rangle\\} $ and $\\{|L\\rangle, |R\\rangle\\} $ (which are the respective eigenstates of $\\sigma_1$ and $\\sigma_2$).\n",
        "\n",
        "These states are as follows:\n",
        "$$|+\\rangle=\\frac{|0\\rangle +|1\\rangle}{\\sqrt{2}},\\hspace{2cm}|-\\rangle=\\frac{|0\\rangle -|1\\rangle}{\\sqrt{2}}, $$\n",
        "$$|L\\rangle=\\frac{|0\\rangle +i|1\\rangle}{\\sqrt{2}},\\hspace{2cm}|R\\rangle=\\frac{|0\\rangle -i|1\\rangle}{\\sqrt{2}}. $$\n",
        "\n",
        "Rotatable $\\pi$ and $\\pi/2$ converters permit any transformation between these basis vectors, whose matrix representation can be written as:\n",
        "$$U_\\pi =e^{-i\\pi/2}\\left[\\begin{matrix} 1 & 0\\\\0 & -1\\\\ \\end{matrix}\\right] , U_{\\pi/2} =e^{-i\\pi/4}\\left[\\begin{matrix} 1 & 0\\\\0 & i\\\\ \\end{matrix}\\right].$$\n",
        "Now we define $U_\\phi(\\theta)$ for a $\\phi$ converter rotated by an angle $\\theta$ where $\\phi = \\pi$ or $\\pi/2$ as:\n",
        "\n",
        "$$U_\\phi(\\theta)=D(\\theta)U_\\phi D(-\\theta)$$\n",
        "where $D(\\theta)$ is the standard 2X2 rotation matrix. Examples of how to transform between the basis vectors are:\n",
        "$$U_\\pi(\\pi/8)|+\\rangle=-i|0\\rangle , \\hspace{2cm}U_\\pi(\\pi/8)|-\\rangle=-i|1\\rangle,$$\n",
        "$$U_{\\pi/2}(\\pi/4)|L\\rangle=|0\\rangle ,\\hspace{2cm}U_{\\pi/2}(\\pi/4)|R\\rangle=-i|1\\rangle .$$"
      ]
    },
    {
      "cell_type": "markdown",
      "metadata": {
        "id": "SOH6rkVxiMZ3"
      },
      "source": [
        "Now our final goal is to determine the two-DoF Stokes parameters. We are considering only the case of non-depolarizing (unknown) transmitting objects. \n",
        "\n",
        "We know that the radially polarized input beam can be represented by:\n",
        "$$\\vert E\\rangle  = \\frac{1}{\\sqrt{2}} (\\vert \\mathbf{e_x}\\rangle \\vert\\psi_{10}\\rangle+\\vert \\mathbf{e_y}\\rangle \\vert\\psi_{01}\\rangle).$$\n",
        "\n",
        "The beam on interacting with an object undergoes transformation as per the Jones matrix $T$ as follows:\n",
        "$$\\vert E\\rangle \\overset{T}{\\rightarrow} \\vert E'\\rangle = \\frac{1}{\\sqrt{2}} [(T\\vert \\mathbf{e_x}\\rangle )\\vert\\psi_{10}\\rangle+(T\\vert \\mathbf{e_y}\\rangle )\\vert\\psi_{01}\\rangle]$$\n",
        "This state of the transmitted beam can also be written in the diagonal and circular mode bases as:\n",
        "$$\\vert E'\\rangle = \\frac{1}{\\sqrt{2}} [(T\\vert \\mathbf{e_+}\\rangle )\\vert\\psi_{+}\\rangle+(T\\vert \\mathbf{e_-}\\rangle\\vert)\\psi_{-}\\rangle]= \\frac{1}{\\sqrt{2}} [(T\\vert \\mathbf{e_L}\\rangle)\\vert\\psi_{R}\\rangle+(T\\vert \\mathbf{e_R}\\rangle)\\vert\\psi_{L}\\rangle]$$\n",
        "Now a two-step operation occurs:\n",
        "\n",
        "First step : Transformation performed by MC B\n",
        "$$MC  B \\rightarrow U_\\pi(\\pi/8)\\vert E'\\rangle = \\frac{-i}{\\sqrt{2}} [(T\\vert \\mathbf{e_+}\\rangle)\\vert\\psi_{10}\\rangle+(T\\vert \\mathbf{e_-}\\rangle )\\vert\\psi_{01}\\rangle]$$\n",
        "Second step : the MBS projects the state onto \\psi_{01}\n",
        "$$MBS\\rightarrow  \\langle\\psi_{01}\\vert U_\\pi(\\pi/8)\\vert E'\\rangle = \\frac{-i}{\\sqrt{2}} T\\vert \\mathbf{e_-}\\rangle$$\n",
        "Postselection of the four input polarization states $\\mathbf{e_x},\\mathbf{e_y},\\mathbf{e_+},\\mathbf{e_R}$ is provided by these projections as per the following identities (global phase factors have been omitted):\n",
        "$$\\langle\\psi_{10}\\vert E'\\rangle = \\frac{1}{\\sqrt{2}} T\\vert \\mathbf{e_x}\\rangle ,$$\n",
        "$$\\langle\\psi_{01}\\vert E'\\rangle = \\frac{1}{\\sqrt{2}} T\\vert \\mathbf{e_y}\\rangle ,$$\n",
        "$$\\langle\\psi_{+}\\vert E'\\rangle = \\frac{1}{\\sqrt{2}} T\\vert \\mathbf{e_-}\\rangle ,$$\n",
        "$$\\langle\\psi_{L}\\vert E'\\rangle = \\frac{1}{\\sqrt{2}} T\\vert \\mathbf{e_R}\\rangle .$$\n",
        "The above states exiting\n",
        "four di\u000berent ports of the three MBSs, are now analyzed by CPMs that allow to evaluate all the elements of the Jones matrix $T$. For example, when the first of the above four states is sent through a CPM, the following intensities $I_{\\alpha 0}$ can be measured:\n",
        "$$I_{00}=\\vert\\langle\\mathbf{e_x}\\vert\\langle\\psi_{10}\\vert E'\\rangle\\vert^2 =\\frac{1}{2}\\vert\\langle\\mathbf{e_x}\\vert T\\vert \\mathbf{e_x}\\rangle\\vert^2 ,$$\n",
        "$$I_{10}=\\vert\\langle\\mathbf{e_y}\\vert\\langle\\psi_{10}\\vert E'\\rangle\\vert^2 =\\frac{1}{2}\\vert\\langle\\mathbf{e_y}\\vert T\\vert \\mathbf{e_x}\\rangle\\vert^2 ,$$\n",
        "$$I_{20}=\\vert\\langle\\mathbf{e_+}\\vert\\langle\\psi_{10}\\vert E'\\rangle\\vert^2 =\\frac{1}{2}\\vert\\langle\\mathbf{e_+}\\vert T\\vert \\mathbf{e_x}\\rangle\\vert^2 ,$$\n",
        "$$I_{30}=\\vert\\langle\\mathbf{e_L}\\vert\\langle\\psi_{10}\\vert E'\\rangle\\vert^2 =\\frac{1}{2}\\vert\\langle\\mathbf{e_L}\\vert T\\vert \\mathbf{e_x}\\rangle\\vert^2 .$$\n",
        "Once the 16 intensities $I_{\\alpha \\beta}$ are measured, eventually the 16 two-DoF Stokes parameters $S_{\\mu \\nu}$ can be determined.\n"
      ]
    },
    {
      "cell_type": "markdown",
      "metadata": {
        "id": "g14BddHAaa8K"
      },
      "source": [
        "For determining the two-DoF Stokes parameters $S_{\\mu \\nu}$ we start off by defining the four linearly independant projection matrices $\\{E_\\mu \\} \\equiv | \\mu \\rangle \\langle \\mu |$ where the four basis states $\\{|0 \\rangle, |1\\rangle, |+\\rangle, |L\\rangle \\} $ are relabelled as $\\{|0 \\rangle, |1\\rangle, |2\\rangle, |3\\rangle \\} $:\n",
        "\n",
        "$$ E_0 = \\left[ \\begin{matrix} \n",
        "1 & 0 \\\\\n",
        "0 & 0 \n",
        "\\end{matrix} \\right] =  \\frac{\\sigma_0 + \\sigma_3}{2} \\quad \\quad E_1 = \\left[ \\begin{matrix} \n",
        "0 & 0 \\\\\n",
        "0 & 1 \n",
        "\\end{matrix} \\right] = \\frac{\\sigma_0 - \\sigma_3}{2}$$\n",
        "\n",
        "$$ E_2 = \\left[ \\begin{matrix} \n",
        "\\frac{1}{2} & \\frac{1}{2} \\\\\n",
        "\\frac{1}{2} & \\frac{1}{2} \n",
        "\\end{matrix} \\right] =  \\frac{\\sigma_0 + \\sigma_1}{2} \\quad \\quad \n",
        "E_3 = \\left[ \\begin{matrix} \n",
        "\\frac{1}{2} & \\frac{-i}{2} \\\\\n",
        "\\frac{1}{2} & \\frac{1}{2} \n",
        "\\end{matrix} \\right] = \\frac{\\sigma_0 - \\sigma_2}{2}$$\n",
        "\n",
        "It follows directly that $\\sigma_0 = E_0 + E_1, \\sigma_1 = −E_0 − E_1 + 2E_2, \\sigma_2 = −E_0 − E_1 + 2E_3, \\sigma_3 = E_0 − E_1 $ that is:\n",
        "$$E_\\mu = \\sum_{\\alpha = 0}^3 g_{\\mu \\alpha} \\sigma_\\alpha \\quad \\text{and} \\quad \\sigma_\\mu = \\sum_{\\alpha = 0}^3 f_{\\mu \\alpha} E_\\alpha \\quad  (\\mu = 0,1,2,3)$$\n",
        "\n",
        "Here due to orthogonality of the Pauli matrices, $g_{\\mu \\alpha} = \\text{tr}(E_\\mu \\sigma_\\alpha )/2$ The coefficients $f_{\\mu \\alpha}$ can be found by noticing that the two $4 × 4$ matrices $F$ and $G$\n",
        "defined as $[G]_{\\mu \\alpha} = g_{\\mu \\alpha}$ and $[F]_{\\mu \\alpha} = f_{\\mu \\alpha}$, are connected by the simple relation $F = G^{−1}$\n",
        ", which implies $f_{\\mu \\alpha} = [G^{−1}]_{\\mu \\alpha}$.\n",
        "\n",
        "\n",
        "Now we can proceed to express the\n",
        "two-DoF Stokes parameters $S_{\\mu \\nu}$ in terms of measurable intensities of light by first rewriting them in terms of the projection matrices $\\{E_\\mu \\}$ as:\n",
        "\n",
        "$$S_{\\mu \\nu} = \\text{tr} [\\rho ( \\sigma_\\mu \\otimes \\sigma_\\nu ) ] = \\sum_{\\alpha,\\beta = 0}^{3} f_{\\mu \\alpha} f_{\\nu \\beta} I_{\\alpha \\beta} $$\n",
        "\n",
        "$$S_{\\mu \\nu} = \\sum_{\\alpha,\\beta = 0}^{3} (F \\otimes F)_{\\mu \\nu, \\alpha \\beta} I_{\\alpha \\beta}$$\n",
        "\n",
        "Where $I_{\\alpha \\beta} \\equiv \\text{tr} [\\rho (E_\\alpha \\otimes E_\\beta)] $ denotes the intensity measured by the detector labeled by\n",
        "the pair of indices $\\alpha, \\beta$. This equation shows a straightforward way to calculate the coefficients $f_{\\mu \\alpha} f_{\\nu \\beta}$.\n",
        "\n",
        "However, a more efficient formula can be obtained by defining\n",
        "the “intensity matrix” $I$ via the relation $[I]_{\\alpha \\beta} = I_{\\alpha \\beta}$. It follows that:\n",
        "\n",
        "$$ S_{\\mu \\nu} = [FIF^T]_{\\mu \\nu}$$ \n",
        "\n",
        "For example, $S_{00} = I_{00} + I_{01} + I_{10} + I_{11}$ and $S_{32} = −I_{00} − I_{01} + 2I_{03} + I_{10} + I_{11} − 2I_{13}$. A complete list of the two-Dof Stokes parameters $S_{\\mu \\nu}$ expressed in terms of the intensities $I_{\\alpha \\beta}$ is as follows:\n",
        "\n",
        "\n",
        "\n",
        "\n"
      ]
    },
    {
      "cell_type": "markdown",
      "metadata": {
        "id": "lWe-Ua32xiH8"
      },
      "source": [
        "$$\\begin{align*}\n",
        "S_{00} &= I_{00} + I_{01} + I_{10} + I_{11}, \\\\\n",
        "S_{01} &= -I_{00} - I_{01} + 2I_{02} - I_{10} - I_{11} + 2I_{12}, \\\\ \n",
        "S_{02} &= -I_{00} - I_{01} + 2I_{03} - I_{10} - I_{11} + 2I_{13}, \\\\\n",
        "S_{03} &= I_{00} - I_{01} + I_{10} - I_{11}, \\\\\n",
        "S_{10} &= -I_{00} - I_{01} - I_{10} - I_{11} + 2 (I_{20} + I_{21}) , \\\\\n",
        "S_{11} &= I_{00} + I_{01} - 2I_{02} + I_{10} + I_{11} - 2 (I_{12} + I_{20} + I_{21} - 2I_{22}) , \\\\\n",
        "S_{12} &= I_{00} + I_{01} - 2I_{03} + I_{10} + I_{11} - 2 (I_{13} + I_{20} + I_{21} - 2I_{23}) , \\\\\n",
        "S_{13} &= -I_{00} + I_{01} - I_{10} + I_{11} + 2I_{20} - 2I_{21}, \\\\\n",
        "S_{20} &= -I_{00} - I_{01} - I_{10} - I_{11} + 2 (I_{30} + I_{31}) , \\\\\n",
        "S_{21} &= I_{00} + I_{01} - 2I_{02} + I_{10} + I_{11} - 2 (I_{12} + I_{30} + I_{31} - 2I_{32}) , \\\\\n",
        "S_{22} &= I_{00} + I_{01} - 2I_{03} + I_{10} + I_{11} - 2 (I_{13} + I_{30} + I_{31} - 2I_{33}) , \\\\\n",
        "S_{23} &= -I_{00} + I_{01} - I_{10} + I_{11} + 2I_{30} - 2I_{31}, \\\\\n",
        "S_{30} &= I_{00} + I_{01} - I_{10} - I_{11}, \\\\\n",
        "S_{31} &= -I_{00} - I_{01} + 2I_{02} + I_{10} + I_{11} - 2I_{12}, \\\\\n",
        "S_{32} &= -I_{00} - I_{01} + 2I_{03} + I_{10} + I_{11} - 2I_{13}, \\\\\n",
        "S_{33} &= I_{00} - I_{01} - I_{10} + I_{11}. \n",
        "\\end{align*}$$\n",
        "\n",
        "Using $\\lambda_{\\nu}$ = 1 for $\\nu$ = 0,1,3 and $\\lambda_{\\nu}$ = -1 for $\\nu$ = 2 seen in previous sections, we directly obtain the elements of Mueller matrix for the material under study.\n",
        "$$\n",
        "    M_{\\mu\\nu}= \n",
        "\\begin{cases}\n",
        "     S_{\\mu\\nu},& \\text{if } \\nu = 2\\\\\n",
        "     -S_{\\mu\\nu},& \\text{if } \\nu = 0,1,3\\\\\n",
        "\\end{cases}\n",
        "$$\n",
        "\n"
      ]
    },
    {
      "cell_type": "markdown",
      "metadata": {
        "id": "JUfh7O6BAFt4"
      },
      "source": [
        "# **References:**\n",
        "\n",
        "[1] Classical entanglement in polarization metrology, Falk Töppel et al 2014 New J. Phys. 16 073019 https://iopscience.iop.org/article/10.1088/1367-2630/16/7/073019/meta\n",
        "\n",
        "[2] Arvidsson-Shukur, D.R.M., Yunger Halpern, N., Lepage, H.V. et al. Quantum advantage in postselected metrology. Nat Commun 11, 3775 (2020). https://doi.org/10.1038/s41467-020-17559-w\n",
        "\n",
        "[3] Jia-Ren Chang Chien, Chi-Chung Liu, Chien-Jang Wu, Pei Yu Wu, and Chang Ching Li, \"Design Analysis of a Beam Splitter Based on the Frustrated Total Internal Reflection,\" Progress In Electromagnetics Research, Vol. 124, 71-83, 2012. doi:10.2528/PIER11110904 http://www.jpier.org/PIER/pier.php?paper=11110904\n",
        "\n",
        "[4] M.W. Beijersbergen, L. Allen, H.E.L.O. van der Veen, J.P. Woerdman, Astigmatic laser mode converters and transfer of orbital angular momentum, Optics Communications, Volume 96, Issues 1–3, 1993, Pages 123-132, ISSN 0030-4018, \n",
        "https://doi.org/10.1016/0030-4018(93)90535-D.\n",
        "\n",
        "[5] Optics, 5th Edition, Eugene Hecht, Pearson Education, 2017. https://www.pearson.com/us/higher-education/program/Hecht-Optics-5th-Edition/PGM45350.html\n"
      ]
    }
  ]
}
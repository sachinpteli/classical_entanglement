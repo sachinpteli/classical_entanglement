{
  "nbformat": 4,
  "nbformat_minor": 0,
  "metadata": {
    "colab": {
      "name": "classical_entanglement.ipynb",
      "provenance": []
    },
    "kernelspec": {
      "name": "python3",
      "display_name": "Python 3"
    },
    "language_info": {
      "name": "python"
    }
  },
  "cells": [
    {
      "cell_type": "markdown",
      "metadata": {
        "id": "7qT3g5vIAxqy"
      },
      "source": [
        "# Classical Entanglement in Polarization Metrology\n",
        "## PH202 Course Project"
      ]
    },
    {
      "cell_type": "markdown",
      "metadata": {
        "id": "UpIUHGyudLry"
      },
      "source": [
        "### Real-time Single-shot Mueller Matrix Polarimetry\n",
        "\n",
        "As discusses before, we can describe the optical response of a material to incident light beam using Mueller Matrix. In this section, the novel method to measure Mueller matrix as proposed in the paper is discussed. \n",
        "\n",
        "We estimate the sixteen two-DoF Stokes parameters by measuring certain intensities of the transformed versions of incident radial beam in a single iteration of the experiment, as against 4 iterations in the conventional Mueller Matrix polarimetry. \n",
        "\n",
        "The bird's-eye-view of the experimental setup is as shown in the Figure 3.1.\n",
        "\n",
        "<img src=\"https://drive.google.com/uc?export=view&id=1Ob4VC66z8dhE_CqPhI65AbALgBCnodDE\" width=\"750\">\n",
        "\n",
        "<p style=\"text-align: center;\"> \n",
        "\n",
        "**Figure 3.1** </p>\n",
        "\n",
        "The underlying idea is to first project the spatial mode of the radially polarized beam into four spatial modes $\\{\\psi_{10}, \\psi_{01}, \\psi_{+},\\psi_{L} \\}$. The pair, \n",
        "Then these spatially \"detangled\" beam postselect the polariz\n"
      ]
    },
    {
      "cell_type": "code",
      "metadata": {
        "id": "AEH6CO2A94kZ"
      },
      "source": [
        ""
      ],
      "execution_count": null,
      "outputs": []
    }
  ]
}
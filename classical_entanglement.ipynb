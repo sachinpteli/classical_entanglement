{
  "nbformat": 4,
  "nbformat_minor": 0,
  "metadata": {
    "colab": {
      "name": "classical_entanglement.ipynb",
      "provenance": []
    },
    "kernelspec": {
      "name": "python3",
      "display_name": "Python 3"
    },
    "language_info": {
      "name": "python"
    }
  },
  "cells": [
    {
      "cell_type": "markdown",
      "metadata": {
        "id": "7qT3g5vIAxqy"
      },
      "source": [
        "# Classical Entanglement in Polarization Metrology\n",
        "## PH202 Course Project"
      ]
    },
    {
      "cell_type": "markdown",
      "metadata": {
        "id": "UpIUHGyudLry"
      },
      "source": [
        "### **Real-time Single-shot Mueller Matrix Polarimetry**\n",
        "\n",
        "As discusses before, we can describe the optical response of a material to incident light beam using Mueller Matrix. In this section, the novel method to measure Mueller matrix as proposed in the paper is discussed. \n",
        "\n",
        "We estimate the sixteen two-DoF Stokes parameters by measuring certain intensities of the transformed versions of incident radial beam in a single iteration of the experiment, as against 4 iterations in the conventional Mueller Matrix polarimetry. \n",
        "\n",
        "The bird's-eye-view of the experimental setup is as shown in the Figure 3.1.\n",
        "\n",
        "<img src=\"https://drive.google.com/uc?export=view&id=1Ob4VC66z8dhE_CqPhI65AbALgBCnodDE\" width=\"750\">\n",
        "\n",
        "**Figure 3.1**\n",
        "\n",
        "\n",
        "\n"
      ]
    },
    {
      "cell_type": "markdown",
      "metadata": {
        "id": "leapjgXT_13z"
      },
      "source": [
        "#### **The Idea**\n",
        "\n",
        "The underlying idea is to first project the spatial mode of the radially polarized beam into four spatial modes $\\{\\psi_{10}, \\psi_{01}, \\psi_{+},\\psi_{L} \\}$ and then these separated beams postselect the polarizations states $\\{\\textbf{e}_{x},\\textbf{e}_{y},\\textbf{e}_{+},\\textbf{e}_{R} \\}$.\n",
        "\n",
        "Postselection refers to conditioning the probabilities of possible outcomes of an event on some other given event. In our case, we condition the probabilities of measuring different polarization DoFs on the occurence of spatial DoFs. Necessity of postselection and its implication is reflected in the improvement of the rate of Fischer Information (average information learned about an unknown parameter from a trial) to cost [1]."
      ]
    },
    {
      "cell_type": "markdown",
      "metadata": {
        "id": "nwFlfy6NAApv"
      },
      "source": [
        "#### **The Procedure**\n",
        "\n",
        "1. To resolve the spatial DoF, we trifurcate the beam emerging from the sample into 3 beams of equal intensity using two beam splitters. \n",
        "2. The split beams are sent to 3 **Mode Converters** (**MCs**) that are tasked with projecting the beam onto a particular basis of spatial modes. The three bases that we use in this experiment are: $\\{\\psi_{L}, \\psi_{R}\\}$ (circular), $\\{\\psi_{+}, \\psi_{-}\\}$ (diagonal), and $\\{\\psi_{10}, \\psi_{01}\\}$ (horizontal and vertical).\n",
        "\n",
        "\n",
        "**A diggression: Why does selecting a pair of spatial DoFs works?** Because Jones Vector is rank 2 column matrix so it requires two orthogonal vectors for forming the basis.\n"
      ]
    },
    {
      "cell_type": "markdown",
      "metadata": {
        "id": "aAL4A7CrAJuh"
      },
      "source": [
        "3. MC A selects $\\{\\psi_{L}, \\psi_{R}\\}$ and transforms it to $\\{\\psi_{10}, \\psi_{01}\\}$ using a $\\dfrac{\\pi}{2}$ converter.<br>\n",
        "MC B selects $\\{\\psi_{+}, \\psi_{-}\\}$ and transforms it to $\\{\\psi_{10}, \\psi_{01}\\}$ using a $\\pi$ converter. <br>\n",
        "MC C is empty space and it does not change any modes.\n",
        "4. Each Mode Converter is followed by a Mode Beam Splitter (MBS). MBS separates the beam coming from MC into its orthogonal components. \\\n",
        "The MBS following the MC A splits the its input beam into $\\psi_{L}$ and $ \\psi_{R}$ component beams.<br>\n",
        "The MBS following the MC B splits its input beam into $\\psi_{+}$ and $ \\psi_{-}$ component beams.<br>\n",
        "The MBS following the MC C splits its input beam into $\\psi_{10}$ and $ \\psi_{01} $ component beams.\n",
        "\n",
        "**Why is MC C empty?** MC C is just empty space because we want $\\{\\psi_{10}, \\psi_{01}\\}$ basis from the MC C and MBS is splitting the beam into its $\\psi_{10}$ and $\\psi_{01}$ components. Recall that circular and diagonal polarizations can be written as a suitable linear combination of $\\psi_{10} $ and $\\psi_{01} $ so what a MBS essentially does is just a change of basis and then separating the two orthogonal vectors based on their coefficients for  $\\psi_{10} $ and $\\psi_{01} $. For MC C, no change of basis is required. So, **MC C** if at all being a physical device, would perform identity operation only."
      ]
    },
    {
      "cell_type": "markdown",
      "metadata": {
        "id": "dOndDJLzAw1E"
      },
      "source": [
        "#### **How do Mode Converters (MCs) perform their task?**"
      ]
    },
    {
      "cell_type": "markdown",
      "metadata": {
        "id": "JUfh7O6BAFt4"
      },
      "source": [
        "References:\n",
        "\n",
        "1. Arvidsson-Shukur, D.R.M., Yunger Halpern, N., Lepage, H.V. et al. Quantum advantage in postselected metrology. Nat Commun 11, 3775 (2020). https://doi.org/10.1038/s41467-020-17559-w"
      ]
    },
    {
      "cell_type": "code",
      "metadata": {
        "id": "AEH6CO2A94kZ"
      },
      "source": [
        ""
      ],
      "execution_count": null,
      "outputs": []
    }
  ]
}
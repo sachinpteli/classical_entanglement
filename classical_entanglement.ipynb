{
  "nbformat": 4,
  "nbformat_minor": 0,
  "metadata": {
    "colab": {
      "name": "classical_entanglement.ipynb",
      "provenance": []
    },
    "kernelspec": {
      "name": "python3",
      "display_name": "Python 3"
    },
    "language_info": {
      "name": "python"
    }
  },
  "cells": [
    {
      "cell_type": "markdown",
      "metadata": {
        "id": "7qT3g5vIAxqy"
      },
      "source": [
        "# Classical Entanglement in Polarization Metrology\n",
        "## PH202 Course Project"
      ]
    },
    {
      "cell_type": "code",
      "metadata": {
        "id": "AEH6CO2A94kZ"
      },
      "source": [
        ""
      ],
      "execution_count": null,
      "outputs": []
    }
  ]
}